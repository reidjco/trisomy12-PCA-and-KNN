{
 "cells": [
  {
   "cell_type": "markdown",
   "metadata": {},
   "source": [
    "## Human pluripotent stem cells identify molecular targets of trisomy 12 in chronic lymphocytic leukemia patients\n",
    "#### Jennifer C. Reid et al. Cell Reports, 2021"
   ]
  },
  {
   "cell_type": "code",
   "execution_count": null,
   "metadata": {},
   "outputs": [],
   "source": [
    "# Load required libraries\n",
    "import itertools\n",
    "import numpy as np\n",
    "import matplotlib.pyplot as plt\n",
    "from matplotlib.ticker import NullFormatter\n",
    "import pandas as pd\n",
    "import seaborn as sns; sns.set()\n",
    "import matplotlib.ticker as ticker\n",
    "from sklearn import preprocessing\n",
    "from sklearn.neighbors import KNeighborsClassifier\n",
    "from sklearn import metrics\n",
    "from sklearn.model_selection import train_test_split\n",
    "from sklearn.decomposition import PCA\n",
    "%matplotlib inline"
   ]
  },
  {
   "cell_type": "markdown",
   "metadata": {},
   "source": [
    "## ANALYSIS FOR ‘ALL GENES’"
   ]
  },
  {
   "cell_type": "code",
   "execution_count": null,
   "metadata": {},
   "outputs": [],
   "source": [
    "dfall = pd.read_csv('KNN_allgenes_tri12_or_not.csv')\n",
    "dfall.head()"
   ]
  },
  {
   "cell_type": "markdown",
   "metadata": {},
   "source": [
    "Cytogenetics\tA1BG\tA1CF\tA2M\tA2ML1\tA3GALT2\t...\tRNU1-143P\tRNU1-146P\tRNU1-148P\tRNU1-14P\tRNU1-150P<br>\n",
    "0\tnot\t6.87750\t5.60989\t5.84489\t5.59911\t5.99098\t...\t6.22049\t3.49924\t6.87333\t4.67932\t6.43522 <br>\n",
    "1\tnot\t7.17746\t5.31488\t5.62043\t4.95479\t6.35395\t...\t5.23416\t3.45891\t6.84149\t4.69038\t6.58324 <br>\n",
    "2\tnot\t6.91770\t5.34324\t5.79977\t5.29049\t5.94090\t...\t5.36049\t3.67363\t6.67255\t4.50193\t6.22993 <br>\n",
    "3\tnot\t7.16713\t5.55926\t5.91698\t5.76116\t6.07529\t...\t6.19797\t3.26875\t7.14785\t4.59984\t6.70062 <br>\n",
    "not\t7.17281\t5.56064\t5.94240\t5.63104\t6.01762\t...\t5.37074\t3.66070\t6.84350\t4.72973\t6.60047 <br>\n",
    "5 rows × 16379 columns"
   ]
  },
  {
   "cell_type": "code",
   "execution_count": null,
   "metadata": {},
   "outputs": [],
   "source": [
    "# QC\n",
    "print(\"all genes:\",dfall['Cytogenetics'].value_counts())"
   ]
  },
  {
   "cell_type": "markdown",
   "metadata": {},
   "source": [
    "all genes: not      46 <br>\n",
    "&emsp; &emsp; &emsp;            tri12    17"
   ]
  },
  {
   "cell_type": "code",
   "execution_count": null,
   "metadata": {},
   "outputs": [],
   "source": [
    "# Define feature set\n",
    "dfall.columns"
   ]
  },
  {
   "cell_type": "markdown",
   "metadata": {},
   "source": [
    "Index(['Cytogenetics', 'A1BG', 'A1CF', 'A2M', 'A2ML1', 'A3GALT2', 'A4GALT', 'A4GNT', 'AAAS', <br>\n",
    "&emsp;       ...<br>\n",
    "&emsp;       'RNU1-139P', 'RNU1-13P', 'RNU1-140P', 'RNU1-141P', 'RNU1-142P',<br>\n",
    "&emsp;       'RNU1-143P', 'RNU1-146P', 'RNU1-148P', 'RNU1-14P', 'RNU1-150P'],<br>\n",
    "&emsp;      dtype='object', length=16379)\n"
   ]
  },
  {
   "cell_type": "code",
   "execution_count": null,
   "metadata": {},
   "outputs": [],
   "source": [
    "Xall = dfall.iloc[:,2:].values\n",
    "Xall[0:5]"
   ]
  },
  {
   "cell_type": "markdown",
   "metadata": {},
   "source": [
    "array([[6.8775 , 5.60989, 5.84489, ..., 6.87333, 4.67932, 6.43522],<br>\n",
    "&emsp;   [7.17746, 5.31488, 5.62043, ..., 6.84149, 4.69038, 6.58324],<br>\n",
    "&emsp;   [6.9177 , 5.34324, 5.79977, ..., 6.67255, 4.50193, 6.22993],<br>\n",
    "&emsp;   [7.16713, 5.55926, 5.91698, ..., 7.14785, 4.59984, 6.70062],<br>\n",
    "&emsp;   [7.17281, 5.56064, 5.9424 , ..., 6.8435 , 4.72973, 6.60047]]<br>"
   ]
  },
  {
   "cell_type": "code",
   "execution_count": null,
   "metadata": {},
   "outputs": [],
   "source": [
    "yall = dfall['Cytogenetics'].values\n",
    "yall[0:5]"
   ]
  },
  {
   "cell_type": "markdown",
   "metadata": {},
   "source": [
    "array(['not', 'not', 'not', 'not', 'not'], dtype=object)"
   ]
  },
  {
   "cell_type": "code",
   "execution_count": null,
   "metadata": {},
   "outputs": [],
   "source": [
    "# PCA\n",
    "pca = PCA(n_components=2)\n",
    "pca.fit(Xall)\n",
    "Xall_pca = pca.transform(Xall)\n",
    "print(\"original shape:   \", Xall.shape)\n",
    "print(\"transformed shape:\", Xall_pca.shape)\n",
    "print(\"components:\", pca.components_)\n",
    "print(\"explained variance:\", pca.explained_variance_ratio_)"
   ]
  },
  {
   "cell_type": "markdown",
   "metadata": {},
   "source": [
    "original shape:    (64, 16377)<br>\n",
    "transformed shape: (64, 2)<br>\n",
    "components: [[ 0.00558722  0.00398884  0.00382769 ...  0.00271563 -0.00076507 0.00390245]<br>\n",
    "&emsp; [-0.00674197 -0.00351118 -0.00531889 ... -0.00957618 -0.00392257 -0.00886299]]<br>\n",
    "explained variance: [0.14239606 0.09949726]<br>"
   ]
  },
  {
   "cell_type": "code",
   "execution_count": null,
   "metadata": {},
   "outputs": [],
   "source": [
    "# export PCA coordinates and plot in Prism 7\n",
    "Xall_pca_df = pd.DataFrame(Xall_pca)\n",
    "np.savetxt('Xall_pca_df.txt', Xall_pca_df, fmt='%1.9f')"
   ]
  },
  {
   "cell_type": "code",
   "execution_count": null,
   "metadata": {},
   "outputs": [],
   "source": [
    "# K nearest neighbour analysis\n",
    "# 70% of dataset used for training and 30% of dataset used for testing (0.3)\n",
    "# Same random seed as the other analysis\n",
    "Xall_train, Xall_test, yall_train, yall_test = train_test_split(Xall_pca, yall, test_size=0.3, random_state=5)\n",
    "print ('Train set:', Xall_train.shape,  yall_train.shape)\n",
    "print ('Test set:', Xall_test.shape,  yall_test.shape)"
   ]
  },
  {
   "cell_type": "markdown",
   "metadata": {},
   "source": [
    "Train set: (44, 2) (44,) <br>\n",
    "Test set: (20, 2) (20,)"
   ]
  },
  {
   "cell_type": "code",
   "execution_count": null,
   "metadata": {},
   "outputs": [],
   "source": [
    "Ks = 10\n",
    "mean_acc_all = np.zeros((Ks-1))\n",
    "std_acc_all = np.zeros((Ks-1))\n",
    "ConfustionMx = [];\n",
    "for n in range(1,Ks):\n",
    "    #Train Model and Predict\n",
    "    neigh_all = KNeighborsClassifier(n_neighbors = n).fit(Xall_train,yall_train)\n",
    "    yhatall=neigh_all.predict(Xall_test)\n",
    "    mean_acc_all[n-1] = metrics.accuracy_score(yall_test, yhatall)\n",
    "mean_acc_all"
   ]
  },
  {
   "cell_type": "markdown",
   "metadata": {},
   "source": [
    "array([0.6 , 0.7 , 0.65, 0.65, 0.7 , 0.7 , 0.7 , 0.7 , 0.7 ]) <br>\n",
    "<br>\n",
    "Plot accuracy values (mean_acc_all) from k=1 to 9 in Prism"
   ]
  },
  {
   "cell_type": "markdown",
   "metadata": {},
   "source": [
    "## ANALYSIS FOR ‘TOP CHR. 12 GENES’"
   ]
  },
  {
   "cell_type": "code",
   "execution_count": null,
   "metadata": {},
   "outputs": [],
   "source": [
    "df9 = pd.read_csv('KNN_9genes_tri12_or_not.csv')\n",
    "df9.head()"
   ]
  },
  {
   "cell_type": "markdown",
   "metadata": {},
   "source": [
    "\tCytogenetics ALX1 IRAK4 KITLG NTS PTPRB PUS7L SLCO1A2 TBX5 TCP11L2\n",
    "0\tnot\t5.06446\t9.18823\t3.41562\t3.21892\t4.63095\t7.86214\t4.03589\t6.24069\t10.90930<br>\n",
    "1\tnot\t4.92332\t8.98104\t3.28448\t3.53200\t4.28280\t7.76889\t3.49250\t5.98155\t9.73198<br>\n",
    "2\tnot\t4.63945\t9.46348\t3.20656\t3.33914\t4.47696\t8.17006\t3.46301\t5.85343\t10.43220<br>\n",
    "3\tnot\t4.78123\t8.65459\t3.23249\t3.24703\t4.59339\t7.90041\t3.81321\t6.20550\t10.69520<br>\n",
    "4\tnot\t5.11331\t8.62725\t3.25025\t3.32743\t4.47847\t7.79577\t3.47778\t6.20558\t11.13830<br>"
   ]
  },
  {
   "cell_type": "code",
   "execution_count": null,
   "metadata": {},
   "outputs": [],
   "source": [
    "# QC\n",
    "print(\"9 genes:\",df9['Cytogenetics'].value_counts())"
   ]
  },
  {
   "cell_type": "markdown",
   "metadata": {},
   "source": [
    "9 genes: not      46 <br>\n",
    "&emsp; &emsp; &emsp;         tri12    17"
   ]
  },
  {
   "cell_type": "code",
   "execution_count": null,
   "metadata": {},
   "outputs": [],
   "source": [
    "# Define feature set\n",
    "df9.columns"
   ]
  },
  {
   "cell_type": "markdown",
   "metadata": {},
   "source": [
    "Index(['ID', 'Cytogenetics', 'ALX1', 'IRAK4', 'KITLG', 'NTS', 'PTPRB', 'PUS7L', 'SLCO1A2', 'TBX5', 'TCP11L2'], dtype='object')\n"
   ]
  },
  {
   "cell_type": "code",
   "execution_count": null,
   "metadata": {},
   "outputs": [],
   "source": [
    "X9 = df9[['ALX1', 'IRAK4', 'KITLG', 'NTS', 'PTPRB', 'PUS7L', 'SLCO1A2', 'TBX5', 'TCP11L2']].values  #.astype(float)\n",
    "X9[0:1]"
   ]
  },
  {
   "cell_type": "markdown",
   "metadata": {},
   "source": [
    "array([[ 5.06446,  9.18823,  3.41562,  3.21892,  4.63095,  7.86214, 4.03589,  6.24069, 10.9093 ]])"
   ]
  },
  {
   "cell_type": "code",
   "execution_count": null,
   "metadata": {},
   "outputs": [],
   "source": [
    "y9 = df9['Cytogenetics'].values\n",
    "y9[0:5]"
   ]
  },
  {
   "cell_type": "markdown",
   "metadata": {},
   "source": [
    "array(['not', 'not', 'not', 'not', 'not'], dtype=object)\n"
   ]
  },
  {
   "cell_type": "code",
   "execution_count": null,
   "metadata": {},
   "outputs": [],
   "source": [
    "# PCA\n",
    "pca = PCA(n_components=2)\n",
    "pca.fit(X9)\n",
    "X9_pca = pca.transform(X9)\n",
    "print(\"original shape:\", X9.shape)\n",
    "print(\"transformed shape:\", X9_pca.shape)\n",
    "print(\"components:\", pca.components_)\n",
    "print(\"explained variance:\", pca.explained_variance_ratio_)"
   ]
  },
  {
   "cell_type": "markdown",
   "metadata": {},
   "source": [
    "original shape: (63, 9)<br>\n",
    "transformed shape: (63, 2)<br>\n",
    "components: [[ 0.027831   -0.60026611  0.02656125 -0.02816084  0.10960376 -0.59295226 0.06240777  <br>&emsp; 0.06294761 -0.51569856]<br>\n",
    "&emsp; [ 0.07142141 -0.34334739  0.12969711  0.09276781  0.18036988 -0.29371034 0.17642951  0.16057406  0.8221155 ]]<br>\n",
    "explained variance: [0.38132274 0.30949963]"
   ]
  },
  {
   "cell_type": "code",
   "execution_count": null,
   "metadata": {},
   "outputs": [],
   "source": [
    "# export PCA coordinates and plot in Prism 7\n",
    "X9_pca_df = pd.DataFrame(X9_pca)\n",
    "np.savetxt('X9_pca_df.txt', X9_pca_df,fmt='%1.9f')\n",
    "X9_pca_df"
   ]
  },
  {
   "cell_type": "code",
   "execution_count": null,
   "metadata": {},
   "outputs": [],
   "source": [
    "# K nearest neighbour analysis\n",
    "# 70% of dataset used for training and 30% of dataset used for testing (0.3)\n",
    "# Same random seed as the other analysis\n",
    "X9_train, X9_test, y9_train, y9_test = train_test_split(X9_pca, y9, test_size=0.3, random_state=5)\n",
    "print ('Train set:', X9_train.shape,  y9_train.shape)\n",
    "print ('Test set:', X9_test.shape,  y9_test.shape)"
   ]
  },
  {
   "cell_type": "markdown",
   "metadata": {},
   "source": [
    "Train set: (44, 2) (44,) <br>\n",
    "Test set: (19, 2) (19,)"
   ]
  },
  {
   "cell_type": "code",
   "execution_count": null,
   "metadata": {},
   "outputs": [],
   "source": [
    "Ks = 10\n",
    "mean_acc = np.zeros((Ks-1))\n",
    "std_acc = np.zeros((Ks-1))\n",
    "ConfustionMx = [];\n",
    "for n in range(1,Ks):\n",
    "    #Train Model and Predict\n",
    "    neigh9 = KNeighborsClassifier(n_neighbors = n).fit(X9_train,y9_train)\n",
    "    yhat9=neigh9.predict(X9_test)\n",
    "    mean_acc[n-1] = metrics.accuracy_score(y9_test, yhat9)\n",
    "mean_acc"
   ]
  },
  {
   "cell_type": "markdown",
   "metadata": {},
   "source": [
    "array([0.73684211, 0.78947368, 0.84210526, 0.78947368, 0.89473684, <br>\n",
    "&emsp;       0.84210526, 0.84210526, 0.78947368, 0.78947368])\n",
    "<br>\n",
    "Plot accuracy values (mean_acc) from k=1 to 9 in Prism"
   ]
  }
 ],
 "metadata": {
  "kernelspec": {
   "display_name": "Python 2",
   "language": "python",
   "name": "python2"
  },
  "language_info": {
   "codemirror_mode": {
    "name": "ipython",
    "version": 2
   },
   "file_extension": ".py",
   "mimetype": "text/x-python",
   "name": "python",
   "nbconvert_exporter": "python",
   "pygments_lexer": "ipython2",
   "version": "2.7.16"
  }
 },
 "nbformat": 4,
 "nbformat_minor": 2
}
